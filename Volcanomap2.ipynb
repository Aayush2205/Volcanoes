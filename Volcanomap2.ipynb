{
 "cells": [
  {
   "cell_type": "code",
   "execution_count": 9,
   "metadata": {},
   "outputs": [],
   "source": [
    "import folium\n",
    "import pandas\n",
    " \n",
    "data = pandas.read_csv(\"Volcanoes.txt\")\n",
    "lat = list(data[\"LAT\"])\n",
    "lon = list(data[\"LON\"])\n",
    "elev = list(data[\"ELEV\"])\n",
    "name=list(data[\"NAME\"])\n",
    " \n",
    "def colour(elevation):\n",
    "    if 0<=elevation<2000:\n",
    "        return 'green'\n",
    "    elif 2000<=elevation<3000:\n",
    "        return 'orange'\n",
    "    else :\n",
    "        return 'red'\n",
    " \n",
    "map = folium.Map(location=[38.58, -99.09], zoom_start=5, tiles=\"Stamen Terrain\")\n",
    "fgv = folium.FeatureGroup(name = \"Volcanoes\")\n",
    " \n",
    "for lt, ln, nm,el in zip(lat, lon,name, elev):\n",
    "    \n",
    "   fgv.add_child(folium.CircleMarker(location=[lt,ln],popup=nm + \", \"+ str(el)+\"m\", fill_color=colour(el),\n",
    "                                    color='grey', fill= True,fill_opacity=0.7 ,radius=5))\n",
    "fgp = folium.FeatureGroup(name = \"Population\")\n",
    "fgp.add_child(folium.GeoJson(data=open('world.json','r',encoding='utf-8-sig').read(), \n",
    "                            style_function= lambda x: {'fillColor':'green' if x[\"properties\"][\"POP2005\"]<10000000 \n",
    "                                                      else 'orange' if 10000000>=x[\"properties\"][\"POP2005\"]<20000000\n",
    "                                                      else 'red'}))\n",
    " \n",
    "map.add_child(fgv)\n",
    "map.add_child(fgp)\n",
    "map.add_child(folium.LayerControl())\n",
    "map.save(\"Map2.html\")"
   ]
  },
  {
   "cell_type": "code",
   "execution_count": null,
   "metadata": {},
   "outputs": [],
   "source": []
  }
 ],
 "metadata": {
  "kernelspec": {
   "display_name": "Python 3",
   "language": "python",
   "name": "python3"
  },
  "language_info": {
   "codemirror_mode": {
    "name": "ipython",
    "version": 3
   },
   "file_extension": ".py",
   "mimetype": "text/x-python",
   "name": "python",
   "nbconvert_exporter": "python",
   "pygments_lexer": "ipython3",
   "version": "3.7.6"
  }
 },
 "nbformat": 4,
 "nbformat_minor": 4
}
